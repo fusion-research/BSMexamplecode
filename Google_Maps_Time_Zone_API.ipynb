{
 "cells": [
  {
   "cell_type": "markdown",
   "metadata": {},
   "source": [
    "# Google Maps Time Zone API\n",
    "\n",
    "Input: Latitude, longitude and timestamp  \n",
    "Ouput: Time zone and daylight savings information\n",
    "\n",
    "You will need to install the Python wrapper for Google Maps API Web Services https://github.com/googlemaps/google-maps-services-python\n",
    "\n",
    "You could also use the `requests` library and make a GET request directly as an alternative."
   ]
  },
  {
   "cell_type": "code",
   "execution_count": 1,
   "metadata": {
    "collapsed": true
   },
   "outputs": [],
   "source": [
    "import googlemaps\n",
    "import os\n",
    "from datetime import datetime"
   ]
  },
  {
   "cell_type": "markdown",
   "metadata": {},
   "source": [
    "You will need to get your own Google API KEY. You will also need to ENABLE the Time Zone API. Instructions on how to do this located at this url https://developers.google.com/maps/documentation/timezone/get-api-key"
   ]
  },
  {
   "cell_type": "code",
   "execution_count": 2,
   "metadata": {},
   "outputs": [],
   "source": [
    "apikey = os.getenv('GOOGLE_MAP_API_KEY')"
   ]
  },
  {
   "cell_type": "markdown",
   "metadata": {},
   "source": [
    "Create a googlemaps instance"
   ]
  },
  {
   "cell_type": "code",
   "execution_count": 3,
   "metadata": {
    "collapsed": true
   },
   "outputs": [],
   "source": [
    "gmaps = googlemaps.Client(apikey)"
   ]
  },
  {
   "cell_type": "markdown",
   "metadata": {},
   "source": [
    "Let's create some coordinates and a timestamp for inputs."
   ]
  },
  {
   "cell_type": "code",
   "execution_count": 4,
   "metadata": {},
   "outputs": [
    {
     "name": "stdout",
     "output_type": "stream",
     "text": [
      "2017-10-31 00:00:00\n"
     ]
    }
   ],
   "source": [
    "latlon = (42.3,-83.7)\n",
    "t = datetime(2017,10,31)\n",
    "print(t)"
   ]
  },
  {
   "cell_type": "markdown",
   "metadata": {},
   "source": [
    "Here is the call to the API."
   ]
  },
  {
   "cell_type": "code",
   "execution_count": 5,
   "metadata": {},
   "outputs": [],
   "source": [
    "response = gmaps.timezone(latlon, t)"
   ]
  },
  {
   "cell_type": "markdown",
   "metadata": {},
   "source": [
    "Here is the JSON response. Offsets are in seconds."
   ]
  },
  {
   "cell_type": "code",
   "execution_count": 6,
   "metadata": {},
   "outputs": [
    {
     "data": {
      "text/plain": [
       "{'dstOffset': 3600,\n",
       " 'rawOffset': -18000,\n",
       " 'status': 'OK',\n",
       " 'timeZoneId': 'America/New_York',\n",
       " 'timeZoneName': 'Eastern Daylight Time'}"
      ]
     },
     "execution_count": 6,
     "metadata": {},
     "output_type": "execute_result"
    }
   ],
   "source": [
    "response"
   ]
  },
  {
   "cell_type": "markdown",
   "metadata": {},
   "source": [
    "You can also just supply the GPS coordinates to get the corresponding time zone information."
   ]
  },
  {
   "cell_type": "code",
   "execution_count": 7,
   "metadata": {},
   "outputs": [
    {
     "data": {
      "text/plain": [
       "{'dstOffset': 0,\n",
       " 'rawOffset': -18000,\n",
       " 'status': 'OK',\n",
       " 'timeZoneId': 'America/New_York',\n",
       " 'timeZoneName': 'Eastern Standard Time'}"
      ]
     },
     "execution_count": 7,
     "metadata": {},
     "output_type": "execute_result"
    }
   ],
   "source": [
    "gmaps.timezone(latlon)"
   ]
  },
  {
   "cell_type": "markdown",
   "metadata": {},
   "source": [
    "## Usage Limits\n",
    "\n",
    "You have a daily limit of 2500 requests per day and 50 requests per second."
   ]
  }
 ],
 "metadata": {
  "kernelspec": {
   "display_name": "Python 3",
   "language": "python",
   "name": "python3"
  },
  "language_info": {
   "codemirror_mode": {
    "name": "ipython",
    "version": 3
   },
   "file_extension": ".py",
   "mimetype": "text/x-python",
   "name": "python",
   "nbconvert_exporter": "python",
   "pygments_lexer": "ipython3",
   "version": "3.5.1"
  }
 },
 "nbformat": 4,
 "nbformat_minor": 1
}
