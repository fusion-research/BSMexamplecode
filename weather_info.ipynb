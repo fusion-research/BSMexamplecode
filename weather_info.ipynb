{
 "cells": [
  {
   "cell_type": "markdown",
   "metadata": {},
   "source": [
    "# Get Weather Information"
   ]
  },
  {
   "cell_type": "markdown",
   "metadata": {},
   "source": [
    "You can install the module forecastio via `pip install python-forecastio`.  \n",
    "The Python wrapper documentation is here: https://github.com/ZeevG/python-forecast.io  \n",
    "The Dark Sky API documentation is here: https://darksky.net/dev/docs"
   ]
  },
  {
   "cell_type": "code",
   "execution_count": 1,
   "metadata": {
    "collapsed": true
   },
   "outputs": [],
   "source": [
    "import forecastio\n",
    "import datetime as dt\n",
    "import os"
   ]
  },
  {
   "cell_type": "markdown",
   "metadata": {},
   "source": [
    "### Make weather API request"
   ]
  },
  {
   "cell_type": "code",
   "execution_count": 2,
   "metadata": {
    "collapsed": true
   },
   "outputs": [],
   "source": [
    "api_key = os.getenv('FORECASTIO_API_KEY') # INSERT YOUR OWN API KEY HERE\n",
    "lat = 42.28\n",
    "lng = -83.74\n",
    "t = dt.datetime(2017,1,31,11,0,0)\n",
    "response = forecastio.load_forecast(api_key, lat, lng, time=t)\n",
    "forecast = response.json"
   ]
  },
  {
   "cell_type": "markdown",
   "metadata": {},
   "source": [
    "### Print Data for the Midnight Hour"
   ]
  },
  {
   "cell_type": "code",
   "execution_count": 3,
   "metadata": {
    "scrolled": true
   },
   "outputs": [
    {
     "data": {
      "text/plain": [
       "{'apparentTemperature': 14.57,\n",
       " 'dewPoint': 21.63,\n",
       " 'humidity': 0.89,\n",
       " 'icon': 'clear-night',\n",
       " 'precipIntensity': 0,\n",
       " 'precipProbability': 0,\n",
       " 'pressure': 1006.32,\n",
       " 'summary': 'Clear',\n",
       " 'temperature': 24.34,\n",
       " 'time': 1485838800,\n",
       " 'visibility': 4.46,\n",
       " 'windBearing': 132,\n",
       " 'windSpeed': 9.45}"
      ]
     },
     "execution_count": 3,
     "metadata": {},
     "output_type": "execute_result"
    }
   ],
   "source": [
    "forecast['hourly']['data'][0]"
   ]
  },
  {
   "cell_type": "markdown",
   "metadata": {},
   "source": [
    "### Get Hourly Summary"
   ]
  },
  {
   "cell_type": "code",
   "execution_count": 4,
   "metadata": {},
   "outputs": [
    {
     "name": "stdout",
     "output_type": "stream",
     "text": [
      "00:00 Temp: 9.45F, WindSpeed: 24.34, Icon Summary:clear-night\n",
      "01:00 Temp: 10.07F, WindSpeed: 25.03, Icon Summary:snow\n",
      "02:00 Temp: 9.29F, WindSpeed: 25.26, Icon Summary:fog\n",
      "03:00 Temp: 8.65F, WindSpeed: 25.89, Icon Summary:snow\n",
      "04:00 Temp: 6.35F, WindSpeed: 26.56, Icon Summary:snow\n",
      "05:00 Temp: 5.1F, WindSpeed: 26.8, Icon Summary:snow\n",
      "06:00 Temp: 3.83F, WindSpeed: 27.34, Icon Summary:snow\n",
      "07:00 Temp: 3.2F, WindSpeed: 27.42, Icon Summary:cloudy\n",
      "08:00 Temp: 1.01F, WindSpeed: 27.49, Icon Summary:clear-day\n",
      "09:00 Temp: 2.46F, WindSpeed: 28.38, Icon Summary:clear-day\n",
      "10:00 Temp: 2.8F, WindSpeed: 29.11, Icon Summary:cloudy\n",
      "11:00 Temp: 4.53F, WindSpeed: 30.5, Icon Summary:snow\n",
      "12:00 Temp: 5.9F, WindSpeed: 31.61, Icon Summary:snow\n",
      "13:00 Temp: 8.54F, WindSpeed: 33.03, Icon Summary:cloudy\n",
      "14:00 Temp: 9.15F, WindSpeed: 33.76, Icon Summary:snow\n",
      "15:00 Temp: 11.85F, WindSpeed: 34.04, Icon Summary:clear-day\n",
      "16:00 Temp: 14.2F, WindSpeed: 33.61, Icon Summary:snow\n",
      "17:00 Temp: 14.78F, WindSpeed: 32.59, Icon Summary:clear-day\n",
      "18:00 Temp: 15.93F, WindSpeed: 32.44, Icon Summary:clear-night\n",
      "19:00 Temp: 16.55F, WindSpeed: 32.25, Icon Summary:cloudy\n",
      "20:00 Temp: 18.82F, WindSpeed: 32.29, Icon Summary:clear-night\n",
      "21:00 Temp: 18.36F, WindSpeed: 32.48, Icon Summary:clear-night\n",
      "22:00 Temp: 14.72F, WindSpeed: 31.88, Icon Summary:partly-cloudy-night\n",
      "23:00 Temp: 11.98F, WindSpeed: 31.86, Icon Summary:partly-cloudy-night\n"
     ]
    }
   ],
   "source": [
    "for hr, data in enumerate(forecast['hourly']['data']):\n",
    "    print('{0:0>2}:00 Temp: {1}F, WindSpeed: {2}, Icon Summary:{3}'.format(hr,data['windSpeed'],data['temperature'],data['icon']))"
   ]
  },
  {
   "cell_type": "code",
   "execution_count": null,
   "metadata": {
    "collapsed": true
   },
   "outputs": [],
   "source": []
  }
 ],
 "metadata": {
  "kernelspec": {
   "display_name": "Python 3",
   "language": "python",
   "name": "python3"
  },
  "language_info": {
   "codemirror_mode": {
    "name": "ipython",
    "version": 3
   },
   "file_extension": ".py",
   "mimetype": "text/x-python",
   "name": "python",
   "nbconvert_exporter": "python",
   "pygments_lexer": "ipython3",
   "version": "3.5.1"
  }
 },
 "nbformat": 4,
 "nbformat_minor": 1
}
