{
 "cells": [
  {
   "cell_type": "markdown",
   "metadata": {},
   "source": [
    "# Generate Michigan Road Network"
   ]
  },
  {
   "cell_type": "code",
   "execution_count": 40,
   "metadata": {
    "collapsed": true
   },
   "outputs": [],
   "source": [
    "import geopandas as gp\n",
    "import igraph as ig"
   ]
  },
  {
   "cell_type": "markdown",
   "metadata": {},
   "source": [
    "## Read in data\n",
    "\n",
    "First let's read in road segments shapefile. You can find it at [Michigan GIS Open Data](http://gis-michigan.opendata.arcgis.com/datasets/all-roads-v17a)."
   ]
  },
  {
   "cell_type": "code",
   "execution_count": 41,
   "metadata": {},
   "outputs": [
    {
     "data": {
      "text/plain": [
       "795003"
      ]
     },
     "execution_count": 41,
     "metadata": {},
     "output_type": "execute_result"
    }
   ],
   "source": [
    "file1 = 'All_Roads_v17a.geojson'\n",
    "roads = gp.read_file(file1)\n",
    "len(roads)"
   ]
  },
  {
   "cell_type": "code",
   "execution_count": 45,
   "metadata": {},
   "outputs": [
    {
     "data": {
      "text/html": [
       "<div>\n",
       "<style>\n",
       "    .dataframe thead tr:only-child th {\n",
       "        text-align: right;\n",
       "    }\n",
       "\n",
       "    .dataframe thead th {\n",
       "        text-align: left;\n",
       "    }\n",
       "\n",
       "    .dataframe tbody tr th {\n",
       "        vertical-align: top;\n",
       "    }\n",
       "</style>\n",
       "<table border=\"1\" class=\"dataframe\">\n",
       "  <thead>\n",
       "    <tr style=\"text-align: right;\">\n",
       "      <th></th>\n",
       "      <th>OBJECTID</th>\n",
       "      <th>FCC</th>\n",
       "      <th>RDNAME</th>\n",
       "      <th>FRADDL</th>\n",
       "      <th>TOADDL</th>\n",
       "      <th>FRADDR</th>\n",
       "      <th>TOADDR</th>\n",
       "      <th>ZIPL</th>\n",
       "      <th>ZIPR</th>\n",
       "      <th>FEDIRP</th>\n",
       "      <th>...</th>\n",
       "      <th>EMP</th>\n",
       "      <th>BPT</th>\n",
       "      <th>EPT</th>\n",
       "      <th>LRS_LINK</th>\n",
       "      <th>LENGTH</th>\n",
       "      <th>VER</th>\n",
       "      <th>ShapeSTLength</th>\n",
       "      <th>ADJ_CNTY</th>\n",
       "      <th>LEGALSYSTEM</th>\n",
       "      <th>geometry</th>\n",
       "    </tr>\n",
       "  </thead>\n",
       "  <tbody>\n",
       "    <tr>\n",
       "      <th>0</th>\n",
       "      <td>1</td>\n",
       "      <td>A41</td>\n",
       "      <td>North Point Rd</td>\n",
       "      <td>11448</td>\n",
       "      <td>11000</td>\n",
       "      <td>11449</td>\n",
       "      <td>11001</td>\n",
       "      <td>49950</td>\n",
       "      <td>49950</td>\n",
       "      <td></td>\n",
       "      <td>...</td>\n",
       "      <td>0.835</td>\n",
       "      <td>42001455</td>\n",
       "      <td>42001458</td>\n",
       "      <td>34205854200145542001458</td>\n",
       "      <td>1343.174725</td>\n",
       "      <td>17a</td>\n",
       "      <td>1343.174920</td>\n",
       "      <td>0</td>\n",
       "      <td>0</td>\n",
       "      <td>LINESTRING (-88.02735862891302 47.474893562611...</td>\n",
       "    </tr>\n",
       "    <tr>\n",
       "      <th>1</th>\n",
       "      <td>2</td>\n",
       "      <td>A41</td>\n",
       "      <td>Harbor Coast Ln</td>\n",
       "      <td>0</td>\n",
       "      <td>0</td>\n",
       "      <td>0</td>\n",
       "      <td>0</td>\n",
       "      <td>0</td>\n",
       "      <td>0</td>\n",
       "      <td></td>\n",
       "      <td>...</td>\n",
       "      <td>0.657</td>\n",
       "      <td>83021251</td>\n",
       "      <td>83021252</td>\n",
       "      <td>54954408302125183021252</td>\n",
       "      <td>1058.015634</td>\n",
       "      <td>17a</td>\n",
       "      <td>1058.015729</td>\n",
       "      <td>0</td>\n",
       "      <td>0</td>\n",
       "      <td>LINESTRING (-87.90453443038533 47.475922960203...</td>\n",
       "    </tr>\n",
       "    <tr>\n",
       "      <th>2</th>\n",
       "      <td>3</td>\n",
       "      <td>A21</td>\n",
       "      <td>M 26</td>\n",
       "      <td>11469</td>\n",
       "      <td>11511</td>\n",
       "      <td>11468</td>\n",
       "      <td>11510</td>\n",
       "      <td>49950</td>\n",
       "      <td>49950</td>\n",
       "      <td></td>\n",
       "      <td>...</td>\n",
       "      <td>2.630</td>\n",
       "      <td>42004689</td>\n",
       "      <td>42001455</td>\n",
       "      <td>1484034200468942001455</td>\n",
       "      <td>152.530438</td>\n",
       "      <td>17a</td>\n",
       "      <td>152.530490</td>\n",
       "      <td>0</td>\n",
       "      <td>1</td>\n",
       "      <td>LINESTRING (-88.02748423776256 47.473549142674...</td>\n",
       "    </tr>\n",
       "    <tr>\n",
       "      <th>3</th>\n",
       "      <td>4</td>\n",
       "      <td>A21</td>\n",
       "      <td>M 26</td>\n",
       "      <td>11449</td>\n",
       "      <td>11467</td>\n",
       "      <td>11448</td>\n",
       "      <td>11466</td>\n",
       "      <td>49950</td>\n",
       "      <td>49950</td>\n",
       "      <td></td>\n",
       "      <td>...</td>\n",
       "      <td>2.535</td>\n",
       "      <td>42001466</td>\n",
       "      <td>42004689</td>\n",
       "      <td>1484034200146642004689</td>\n",
       "      <td>66.213698</td>\n",
       "      <td>17a</td>\n",
       "      <td>66.213653</td>\n",
       "      <td>0</td>\n",
       "      <td>1</td>\n",
       "      <td>LINESTRING (-88.02729213151295 47.472967779585...</td>\n",
       "    </tr>\n",
       "    <tr>\n",
       "      <th>4</th>\n",
       "      <td>5</td>\n",
       "      <td>A41</td>\n",
       "      <td>Middle Point Rd</td>\n",
       "      <td>11448</td>\n",
       "      <td>11000</td>\n",
       "      <td>11449</td>\n",
       "      <td>11001</td>\n",
       "      <td>49950</td>\n",
       "      <td>49950</td>\n",
       "      <td></td>\n",
       "      <td>...</td>\n",
       "      <td>0.872</td>\n",
       "      <td>42001466</td>\n",
       "      <td>42001470</td>\n",
       "      <td>34205864200146642001470</td>\n",
       "      <td>1402.925854</td>\n",
       "      <td>17a</td>\n",
       "      <td>1402.926114</td>\n",
       "      <td>0</td>\n",
       "      <td>0</td>\n",
       "      <td>LINESTRING (-88.02729213151295 47.472967779585...</td>\n",
       "    </tr>\n",
       "  </tbody>\n",
       "</table>\n",
       "<p>5 rows × 40 columns</p>\n",
       "</div>"
      ],
      "text/plain": [
       "   OBJECTID  FCC           RDNAME  FRADDL  TOADDL  FRADDR  TOADDR   ZIPL  \\\n",
       "0         1  A41   North Point Rd   11448   11000   11449   11001  49950   \n",
       "1         2  A41  Harbor Coast Ln       0       0       0       0      0   \n",
       "2         3  A21             M 26   11469   11511   11468   11510  49950   \n",
       "3         4  A21             M 26   11449   11467   11448   11466  49950   \n",
       "4         5  A41  Middle Point Rd   11448   11000   11449   11001  49950   \n",
       "\n",
       "    ZIPR FEDIRP                        ...                            EMP  \\\n",
       "0  49950                               ...                          0.835   \n",
       "1      0                               ...                          0.657   \n",
       "2  49950                               ...                          2.630   \n",
       "3  49950                               ...                          2.535   \n",
       "4  49950                               ...                          0.872   \n",
       "\n",
       "        BPT       EPT                 LRS_LINK       LENGTH  VER  \\\n",
       "0  42001455  42001458  34205854200145542001458  1343.174725  17a   \n",
       "1  83021251  83021252  54954408302125183021252  1058.015634  17a   \n",
       "2  42004689  42001455   1484034200468942001455   152.530438  17a   \n",
       "3  42001466  42004689   1484034200146642004689    66.213698  17a   \n",
       "4  42001466  42001470  34205864200146642001470  1402.925854  17a   \n",
       "\n",
       "  ShapeSTLength ADJ_CNTY LEGALSYSTEM  \\\n",
       "0   1343.174920        0           0   \n",
       "1   1058.015729        0           0   \n",
       "2    152.530490        0           1   \n",
       "3     66.213653        0           1   \n",
       "4   1402.926114        0           0   \n",
       "\n",
       "                                            geometry  \n",
       "0  LINESTRING (-88.02735862891302 47.474893562611...  \n",
       "1  LINESTRING (-87.90453443038533 47.475922960203...  \n",
       "2  LINESTRING (-88.02748423776256 47.473549142674...  \n",
       "3  LINESTRING (-88.02729213151295 47.472967779585...  \n",
       "4  LINESTRING (-88.02729213151295 47.472967779585...  \n",
       "\n",
       "[5 rows x 40 columns]"
      ]
     },
     "execution_count": 45,
     "metadata": {},
     "output_type": "execute_result"
    }
   ],
   "source": [
    "roads.head()"
   ]
  },
  {
   "cell_type": "markdown",
   "metadata": {},
   "source": [
    "(PR,BPT,EPT) columns are primary keys that identify a unique road segment. Let's first check if there's any duplicate segments."
   ]
  },
  {
   "cell_type": "code",
   "execution_count": 42,
   "metadata": {},
   "outputs": [
    {
     "data": {
      "text/plain": [
       "True"
      ]
     },
     "execution_count": 42,
     "metadata": {},
     "output_type": "execute_result"
    }
   ],
   "source": [
    "keys = ['PR', 'BPT', 'EPT']\n",
    "True in roads.duplicated(keys).values"
   ]
  },
  {
   "cell_type": "markdown",
   "metadata": {},
   "source": [
    "We can drop the duplicate road and keep the latest."
   ]
  },
  {
   "cell_type": "code",
   "execution_count": 43,
   "metadata": {},
   "outputs": [
    {
     "data": {
      "text/plain": [
       "794907"
      ]
     },
     "execution_count": 43,
     "metadata": {},
     "output_type": "execute_result"
    }
   ],
   "source": [
    "roads_dropdupe = roads.drop_duplicates(subset=keys)\n",
    "len(roads_dropdupe)"
   ]
  },
  {
   "cell_type": "markdown",
   "metadata": {},
   "source": [
    "Then let's read in road summary data to decide which roads are still in use."
   ]
  },
  {
   "cell_type": "code",
   "execution_count": 44,
   "metadata": {},
   "outputs": [
    {
     "data": {
      "text/html": [
       "<div>\n",
       "<style>\n",
       "    .dataframe thead tr:only-child th {\n",
       "        text-align: right;\n",
       "    }\n",
       "\n",
       "    .dataframe thead th {\n",
       "        text-align: left;\n",
       "    }\n",
       "\n",
       "    .dataframe tbody tr th {\n",
       "        vertical-align: top;\n",
       "    }\n",
       "</style>\n",
       "<table border=\"1\" class=\"dataframe\">\n",
       "  <thead>\n",
       "    <tr style=\"text-align: right;\">\n",
       "      <th></th>\n",
       "      <th>ID</th>\n",
       "      <th>PR</th>\n",
       "      <th>BPT</th>\n",
       "      <th>EPT</th>\n",
       "      <th>YEAR_ADDED</th>\n",
       "      <th>YEAR_REMOVED</th>\n",
       "    </tr>\n",
       "  </thead>\n",
       "  <tbody>\n",
       "    <tr>\n",
       "      <th>0</th>\n",
       "      <td>2004000001</td>\n",
       "      <td>0</td>\n",
       "      <td>42000023</td>\n",
       "      <td>42000018</td>\n",
       "      <td>2004</td>\n",
       "      <td>2005.0</td>\n",
       "    </tr>\n",
       "    <tr>\n",
       "      <th>1</th>\n",
       "      <td>2004000002</td>\n",
       "      <td>0</td>\n",
       "      <td>42000151</td>\n",
       "      <td>42000128</td>\n",
       "      <td>2004</td>\n",
       "      <td>2005.0</td>\n",
       "    </tr>\n",
       "    <tr>\n",
       "      <th>2</th>\n",
       "      <td>2004000003</td>\n",
       "      <td>0</td>\n",
       "      <td>42000151</td>\n",
       "      <td>42000161</td>\n",
       "      <td>2004</td>\n",
       "      <td>2005.0</td>\n",
       "    </tr>\n",
       "    <tr>\n",
       "      <th>3</th>\n",
       "      <td>2004000004</td>\n",
       "      <td>0</td>\n",
       "      <td>42000170</td>\n",
       "      <td>42000148</td>\n",
       "      <td>2004</td>\n",
       "      <td>2005.0</td>\n",
       "    </tr>\n",
       "    <tr>\n",
       "      <th>4</th>\n",
       "      <td>2004000005</td>\n",
       "      <td>0</td>\n",
       "      <td>42000158</td>\n",
       "      <td>42000170</td>\n",
       "      <td>2004</td>\n",
       "      <td>2005.0</td>\n",
       "    </tr>\n",
       "  </tbody>\n",
       "</table>\n",
       "</div>"
      ],
      "text/plain": [
       "           ID  PR       BPT       EPT  YEAR_ADDED  YEAR_REMOVED\n",
       "0  2004000001   0  42000023  42000018        2004        2005.0\n",
       "1  2004000002   0  42000151  42000128        2004        2005.0\n",
       "2  2004000003   0  42000151  42000161        2004        2005.0\n",
       "3  2004000004   0  42000170  42000148        2004        2005.0\n",
       "4  2004000005   0  42000158  42000170        2004        2005.0"
      ]
     },
     "execution_count": 44,
     "metadata": {},
     "output_type": "execute_result"
    }
   ],
   "source": [
    "file2 = '2016_master_table_id.txt'\n",
    "ids = gp.pd.read_csv(file2)\n",
    "ids.head()"
   ]
  },
  {
   "cell_type": "markdown",
   "metadata": {},
   "source": [
    "Active roads have null values in YEAR_REMOVED column."
   ]
  },
  {
   "cell_type": "code",
   "execution_count": 46,
   "metadata": {},
   "outputs": [
    {
     "data": {
      "text/plain": [
       "794178"
      ]
     },
     "execution_count": 46,
     "metadata": {},
     "output_type": "execute_result"
    }
   ],
   "source": [
    "idx = ids['YEAR_REMOVED'].isnull()\n",
    "len(ids[idx])"
   ]
  },
  {
   "cell_type": "markdown",
   "metadata": {},
   "source": [
    "Next we can inner merge two dataframes on primary keys to get geometry feature of the active roads."
   ]
  },
  {
   "cell_type": "code",
   "execution_count": 50,
   "metadata": {},
   "outputs": [
    {
     "name": "stderr",
     "output_type": "stream",
     "text": [
      "/Library/Frameworks/Python.framework/Versions/3.6/lib/python3.6/site-packages/pandas/core/frame.py:2352: SettingWithCopyWarning: \n",
      "A value is trying to be set on a copy of a slice from a DataFrame.\n",
      "Try using .loc[row_indexer,col_indexer] = value instead\n",
      "\n",
      "See the caveats in the documentation: http://pandas.pydata.org/pandas-docs/stable/indexing.html#indexing-view-versus-copy\n",
      "  self[k1] = value[k2]\n"
     ]
    },
    {
     "data": {
      "text/plain": [
       "789096"
      ]
     },
     "execution_count": 50,
     "metadata": {},
     "output_type": "execute_result"
    }
   ],
   "source": [
    "roads_dropdupe[['BPT','EPT']] = roads_dropdupe[['BPT','EPT']].astype('int')\n",
    "active_roads = ids[idx].merge(roads_dropdupe, how='inner', left_on=['PR','BPT','EPT'],right_on=['PR','BPT','EPT'])\n",
    "len(active_roads`)"
   ]
  },
  {
   "cell_type": "code",
   "execution_count": 61,
   "metadata": {},
   "outputs": [
    {
     "data": {
      "text/html": [
       "<div>\n",
       "<style>\n",
       "    .dataframe thead tr:only-child th {\n",
       "        text-align: right;\n",
       "    }\n",
       "\n",
       "    .dataframe thead th {\n",
       "        text-align: left;\n",
       "    }\n",
       "\n",
       "    .dataframe tbody tr th {\n",
       "        vertical-align: top;\n",
       "    }\n",
       "</style>\n",
       "<table border=\"1\" class=\"dataframe\">\n",
       "  <thead>\n",
       "    <tr style=\"text-align: right;\">\n",
       "      <th></th>\n",
       "      <th>ID</th>\n",
       "      <th>PR</th>\n",
       "      <th>BPT</th>\n",
       "      <th>EPT</th>\n",
       "      <th>YEAR_ADDED</th>\n",
       "      <th>YEAR_REMOVED</th>\n",
       "      <th>OBJECTID</th>\n",
       "      <th>FCC</th>\n",
       "      <th>RDNAME</th>\n",
       "      <th>FRADDL</th>\n",
       "      <th>...</th>\n",
       "      <th>BMP</th>\n",
       "      <th>EMP</th>\n",
       "      <th>LRS_LINK</th>\n",
       "      <th>LENGTH</th>\n",
       "      <th>VER</th>\n",
       "      <th>ShapeSTLength</th>\n",
       "      <th>ADJ_CNTY</th>\n",
       "      <th>LEGALSYSTEM</th>\n",
       "      <th>geometry</th>\n",
       "      <th>ids</th>\n",
       "    </tr>\n",
       "  </thead>\n",
       "  <tbody>\n",
       "    <tr>\n",
       "      <th>0</th>\n",
       "      <td>2004000199</td>\n",
       "      <td>3420585</td>\n",
       "      <td>42001455</td>\n",
       "      <td>42001458</td>\n",
       "      <td>2004</td>\n",
       "      <td>NaN</td>\n",
       "      <td>1</td>\n",
       "      <td>A41</td>\n",
       "      <td>North Point Rd</td>\n",
       "      <td>11448</td>\n",
       "      <td>...</td>\n",
       "      <td>0.000</td>\n",
       "      <td>0.835</td>\n",
       "      <td>34205854200145542001458</td>\n",
       "      <td>1343.174725</td>\n",
       "      <td>17a</td>\n",
       "      <td>1343.174920</td>\n",
       "      <td>0</td>\n",
       "      <td>0</td>\n",
       "      <td>LINESTRING (-88.02735862891302 47.474893562611...</td>\n",
       "      <td>(245263, 245264)</td>\n",
       "    </tr>\n",
       "    <tr>\n",
       "      <th>1</th>\n",
       "      <td>2004000201</td>\n",
       "      <td>3420586</td>\n",
       "      <td>42001466</td>\n",
       "      <td>42001470</td>\n",
       "      <td>2004</td>\n",
       "      <td>NaN</td>\n",
       "      <td>5</td>\n",
       "      <td>A41</td>\n",
       "      <td>Middle Point Rd</td>\n",
       "      <td>11448</td>\n",
       "      <td>...</td>\n",
       "      <td>0.000</td>\n",
       "      <td>0.872</td>\n",
       "      <td>34205864200146642001470</td>\n",
       "      <td>1402.925854</td>\n",
       "      <td>17a</td>\n",
       "      <td>1402.926114</td>\n",
       "      <td>0</td>\n",
       "      <td>0</td>\n",
       "      <td>LINESTRING (-88.02729213151295 47.472967779585...</td>\n",
       "      <td>(245265, 245266)</td>\n",
       "    </tr>\n",
       "    <tr>\n",
       "      <th>2</th>\n",
       "      <td>2004000202</td>\n",
       "      <td>3420658</td>\n",
       "      <td>42004435</td>\n",
       "      <td>42004436</td>\n",
       "      <td>2004</td>\n",
       "      <td>NaN</td>\n",
       "      <td>6</td>\n",
       "      <td>A41</td>\n",
       "      <td>Harbor Coast Ln</td>\n",
       "      <td>14041</td>\n",
       "      <td>...</td>\n",
       "      <td>0.142</td>\n",
       "      <td>0.505</td>\n",
       "      <td>34206584200443542004436</td>\n",
       "      <td>583.158955</td>\n",
       "      <td>17a</td>\n",
       "      <td>583.158926</td>\n",
       "      <td>0</td>\n",
       "      <td>0</td>\n",
       "      <td>LINESTRING (-87.91845890770243 47.474059047116...</td>\n",
       "      <td>(246128, 246129)</td>\n",
       "    </tr>\n",
       "    <tr>\n",
       "      <th>3</th>\n",
       "      <td>2004000204</td>\n",
       "      <td>3420658</td>\n",
       "      <td>42004433</td>\n",
       "      <td>42004435</td>\n",
       "      <td>2004</td>\n",
       "      <td>NaN</td>\n",
       "      <td>8</td>\n",
       "      <td>A41</td>\n",
       "      <td>Harbor Lake Estates 3</td>\n",
       "      <td>9421</td>\n",
       "      <td>...</td>\n",
       "      <td>0.000</td>\n",
       "      <td>0.142</td>\n",
       "      <td>34206584200443342004435</td>\n",
       "      <td>229.198743</td>\n",
       "      <td>17a</td>\n",
       "      <td>229.198843</td>\n",
       "      <td>0</td>\n",
       "      <td>0</td>\n",
       "      <td>LINESTRING (-87.91840197064076 47.472014531962...</td>\n",
       "      <td>(246126, 246128)</td>\n",
       "    </tr>\n",
       "    <tr>\n",
       "      <th>4</th>\n",
       "      <td>2004000205</td>\n",
       "      <td>148403</td>\n",
       "      <td>42001490</td>\n",
       "      <td>42004433</td>\n",
       "      <td>2004</td>\n",
       "      <td>NaN</td>\n",
       "      <td>9</td>\n",
       "      <td>A21</td>\n",
       "      <td>M 26</td>\n",
       "      <td>14001</td>\n",
       "      <td>...</td>\n",
       "      <td>8.064</td>\n",
       "      <td>8.134</td>\n",
       "      <td>1484034200149042004433</td>\n",
       "      <td>112.714170</td>\n",
       "      <td>17a</td>\n",
       "      <td>112.714166</td>\n",
       "      <td>0</td>\n",
       "      <td>1</td>\n",
       "      <td>LINESTRING (-87.91988864667995 47.471907516301...</td>\n",
       "      <td>(245268, 246126)</td>\n",
       "    </tr>\n",
       "  </tbody>\n",
       "</table>\n",
       "<p>5 rows × 44 columns</p>\n",
       "</div>"
      ],
      "text/plain": [
       "           ID       PR       BPT       EPT  YEAR_ADDED  YEAR_REMOVED  \\\n",
       "0  2004000199  3420585  42001455  42001458        2004           NaN   \n",
       "1  2004000201  3420586  42001466  42001470        2004           NaN   \n",
       "2  2004000202  3420658  42004435  42004436        2004           NaN   \n",
       "3  2004000204  3420658  42004433  42004435        2004           NaN   \n",
       "4  2004000205   148403  42001490  42004433        2004           NaN   \n",
       "\n",
       "   OBJECTID  FCC                 RDNAME  FRADDL        ...           BMP  \\\n",
       "0         1  A41         North Point Rd   11448        ...         0.000   \n",
       "1         5  A41        Middle Point Rd   11448        ...         0.000   \n",
       "2         6  A41        Harbor Coast Ln   14041        ...         0.142   \n",
       "3         8  A41  Harbor Lake Estates 3    9421        ...         0.000   \n",
       "4         9  A21                   M 26   14001        ...         8.064   \n",
       "\n",
       "     EMP                 LRS_LINK       LENGTH  VER ShapeSTLength ADJ_CNTY  \\\n",
       "0  0.835  34205854200145542001458  1343.174725  17a   1343.174920        0   \n",
       "1  0.872  34205864200146642001470  1402.925854  17a   1402.926114        0   \n",
       "2  0.505  34206584200443542004436   583.158955  17a    583.158926        0   \n",
       "3  0.142  34206584200443342004435   229.198743  17a    229.198843        0   \n",
       "4  8.134   1484034200149042004433   112.714170  17a    112.714166        0   \n",
       "\n",
       "  LEGALSYSTEM                                           geometry  \\\n",
       "0           0  LINESTRING (-88.02735862891302 47.474893562611...   \n",
       "1           0  LINESTRING (-88.02729213151295 47.472967779585...   \n",
       "2           0  LINESTRING (-87.91845890770243 47.474059047116...   \n",
       "3           0  LINESTRING (-87.91840197064076 47.472014531962...   \n",
       "4           1  LINESTRING (-87.91988864667995 47.471907516301...   \n",
       "\n",
       "                ids  \n",
       "0  (245263, 245264)  \n",
       "1  (245265, 245266)  \n",
       "2  (246128, 246129)  \n",
       "3  (246126, 246128)  \n",
       "4  (245268, 246126)  \n",
       "\n",
       "[5 rows x 44 columns]"
      ]
     },
     "execution_count": 61,
     "metadata": {},
     "output_type": "execute_result"
    }
   ],
   "source": [
    "active_roads.head()"
   ]
  },
  {
   "cell_type": "markdown",
   "metadata": {},
   "source": [
    "## Generate network"
   ]
  },
  {
   "cell_type": "markdown",
   "metadata": {},
   "source": [
    "First let's prepare the nodes of the network which can be generated by combining beginning and ending points."
   ]
  },
  {
   "cell_type": "code",
   "execution_count": 51,
   "metadata": {
    "collapsed": true
   },
   "outputs": [],
   "source": [
    "nodeset1 = set(active_roads['BPT'])\n",
    "nodeset2 = set(active_roads['EPT'])\n",
    "nodeset = list(nodeset1.union(nodeset2))\n",
    "nodeset.sort()"
   ]
  },
  {
   "cell_type": "markdown",
   "metadata": {},
   "source": [
    "Now that we have all the nodes, we can prepare the edges of the network. Each edge(road) is uniquely defined by its source and target node indexes."
   ]
  },
  {
   "cell_type": "code",
   "execution_count": 55,
   "metadata": {},
   "outputs": [
    {
     "data": {
      "text/plain": [
       "0    (245263, 245264)\n",
       "1    (245265, 245266)\n",
       "2    (246128, 246129)\n",
       "3    (246126, 246128)\n",
       "4    (245268, 246126)\n",
       "Name: ids, dtype: object"
      ]
     },
     "execution_count": 55,
     "metadata": {},
     "output_type": "execute_result"
    }
   ],
   "source": [
    "ID = dict(zip(nodeset,range(len(nodeset))))\n",
    "ID_inv = dict(zip(range(len(nodeset)),nodeset))\n",
    "active_roads['ids'] = active_roads.apply(lambda df: (ID[df.at['BPT']],ID[df.at['EPT']]), axis=1)\n",
    "active_roads['ids'].head()"
   ]
  },
  {
   "cell_type": "markdown",
   "metadata": {},
   "source": [
    "Add nodes as vertices. "
   ]
  },
  {
   "cell_type": "code",
   "execution_count": 38,
   "metadata": {},
   "outputs": [
    {
     "data": {
      "text/plain": [
       "'IGRAPH U-W- 613878 789096 -- \\n+ attr: nodeid (v), id (e), weight (e)'"
      ]
     },
     "execution_count": 38,
     "metadata": {},
     "output_type": "execute_result"
    }
   ],
   "source": [
    "g = ig.Graph(directed=False)\n",
    "g.add_vertices(len(nodeset))\n",
    "g.vs['nodeid'] = [ID_inv[x] for x in range(len(nodeset))]"
   ]
  },
  {
   "cell_type": "markdown",
   "metadata": {},
   "source": [
    "Time to add the edges. Edges are specified by pairs of integers, so [(0,1), (1,2)] denotes a list of two edges: one between the first and the second, and the other one between the second and the third vertices of the graph. Passing the node pairs generated in the last step to Graph.add_edges() adds edges to the road network:"
   ]
  },
  {
   "cell_type": "code",
   "execution_count": 75,
   "metadata": {},
   "outputs": [
    {
     "data": {
      "text/plain": [
       "'IGRAPH U-W- 613878 3945480 -- \\n+ attr: nodeid (v), id (e), name (e), weight (e)'"
      ]
     },
     "execution_count": 75,
     "metadata": {},
     "output_type": "execute_result"
    }
   ],
   "source": [
    "g.add_edges(active_roads['ids'].tolist())\n",
    "g.es['weight'] = active_roads['LENGTH']\n",
    "g.es['id'] = active_roads['ID']\n",
    "g.es['name'] = active_roads['RDNAME']\n",
    "g.summary()"
   ]
  },
  {
   "cell_type": "markdown",
   "metadata": {},
   "source": [
    "Take a look at a random edge, which has the attributes weight(road length), id (road id) and name(road name)."
   ]
  },
  {
   "cell_type": "code",
   "execution_count": 117,
   "metadata": {},
   "outputs": [
    {
     "data": {
      "text/plain": [
       "igraph.Edge(<igraph.Graph object at 0x115a259a8>, 5000, {'weight': 135.48225077999999, 'id': 2004005956, 'name': 'M 26'})"
      ]
     },
     "execution_count": 117,
     "metadata": {},
     "output_type": "execute_result"
    }
   ],
   "source": [
    "g.es[5000]"
   ]
  }
 ],
 "metadata": {
  "kernelspec": {
   "display_name": "Python 3",
   "language": "python",
   "name": "python3"
  },
  "language_info": {
   "codemirror_mode": {
    "name": "ipython",
    "version": 3
   },
   "file_extension": ".py",
   "mimetype": "text/x-python",
   "name": "python",
   "nbconvert_exporter": "python",
   "pygments_lexer": "ipython3",
   "version": "3.6.0"
  }
 },
 "nbformat": 4,
 "nbformat_minor": 2
}
